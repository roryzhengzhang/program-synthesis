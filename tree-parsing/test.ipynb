{
 "cells": [
  {
   "cell_type": "code",
   "execution_count": 2,
   "metadata": {},
   "outputs": [],
   "source": [
    "# https://github.com/nikitakit/self-attentive-parser\n",
    "import spacy, benepar\n",
    "from spacy import displacy\n",
    "import nltk"
   ]
  },
  {
   "cell_type": "code",
   "execution_count": 3,
   "metadata": {},
   "outputs": [
    {
     "name": "stderr",
     "output_type": "stream",
     "text": [
      "[nltk_data] Downloading package benepar_en3 to\n",
      "[nltk_data]     /home/zhengzhang/nltk_data...\n",
      "[nltk_data]   Package benepar_en3 is already up-to-date!\n"
     ]
    },
    {
     "data": {
      "text/plain": [
       "True"
      ]
     },
     "execution_count": 3,
     "metadata": {},
     "output_type": "execute_result"
    }
   ],
   "source": [
    "benepar.download('benepar_en3')"
   ]
  },
  {
   "cell_type": "code",
   "execution_count": 4,
   "metadata": {},
   "outputs": [
    {
     "name": "stdout",
     "output_type": "stream",
     "text": [
      "(S (NP (DT This) (JJ particular) (NN location)) (VP (VBZ has) (NP (NP (DT a) (JJ good) (NN check)) (PP (IN in) (NP (NN deal))))) (. .))\n"
     ]
    },
    {
     "name": "stderr",
     "output_type": "stream",
     "text": [
      "/home/zhengzhang/anaconda3/lib/python3.8/site-packages/torch/distributions/distribution.py:44: UserWarning: <class 'torch_struct.distributions.TreeCRF'> does not define `arg_constraints`. Please set `arg_constraints = {}` or initialize the distribution with `validate_args=False` to turn off validation.\n",
      "  warnings.warn(f'{self.__class__} does not define `arg_constraints`. ' +\n"
     ]
    }
   ],
   "source": [
    "nlp = spacy.load('en_core_web_md')\n",
    "if spacy.__version__.startswith('2'):\n",
    "    nlp.add_pipe(benepar.BeneparComponent(\"benepar_en3\"))\n",
    "else:\n",
    "    nlp.add_pipe(\"benepar\", config={\"model\": \"benepar_en3\"})\n",
    "doc = nlp(\"This particular location has a good check in deal. We came here near Christmas time to buy some presents and we had a good experience.\")\n",
    "sent = list(doc.sents)[0]\n",
    "print(sent._.parse_string)"
   ]
  },
  {
   "cell_type": "code",
   "execution_count": 5,
   "metadata": {},
   "outputs": [
    {
     "name": "stdout",
     "output_type": "stream",
     "text": [
      "This particular location has a good check in deal. ('S',) (S (NP (DT This) (JJ particular) (NN location)) (VP (VBZ has) (NP (NP (DT a) (JJ good) (NN check)) (PP (IN in) (NP (NN deal))))) (. .)) <generator object get_child_spans at 0x7f752905ac10> <generator object get_child_spans at 0x7f752905ac80>\n",
      "This particular location ('NP',) (NP (DT This) (JJ particular) (NN location)) <generator object get_child_spans at 0x7f752905aba0> <generator object get_child_spans at 0x7f752905ac80>\n",
      "This () (DT This) <generator object get_child_spans at 0x7f752905ac10> <generator object get_child_spans at 0x7f752905ac80>\n",
      "particular () (JJ particular) <generator object get_child_spans at 0x7f752905aba0> <generator object get_child_spans at 0x7f752905ac80>\n",
      "location () (NN location) <generator object get_child_spans at 0x7f752905ac10> <generator object get_child_spans at 0x7f752905ac80>\n",
      "has a good check in deal ('VP',) (VP (VBZ has) (NP (NP (DT a) (JJ good) (NN check)) (PP (IN in) (NP (NN deal))))) <generator object get_child_spans at 0x7f752905aba0> <generator object get_child_spans at 0x7f752905ac80>\n",
      "has () (VBZ has) <generator object get_child_spans at 0x7f752905ac10> <generator object get_child_spans at 0x7f752905ac80>\n",
      "a good check in deal ('NP',) (NP (NP (DT a) (JJ good) (NN check)) (PP (IN in) (NP (NN deal)))) <generator object get_child_spans at 0x7f752905aba0> <generator object get_child_spans at 0x7f752905ac80>\n",
      "a good check ('NP',) (NP (DT a) (JJ good) (NN check)) <generator object get_child_spans at 0x7f752905ac10> <generator object get_child_spans at 0x7f752905ac80>\n",
      "a () (DT a) <generator object get_child_spans at 0x7f752905aba0> <generator object get_child_spans at 0x7f752905ac80>\n",
      "good () (JJ good) <generator object get_child_spans at 0x7f752905ac10> <generator object get_child_spans at 0x7f752905ac80>\n",
      "check () (NN check) <generator object get_child_spans at 0x7f752905aba0> <generator object get_child_spans at 0x7f752905ac80>\n",
      "in deal ('PP',) (PP (IN in) (NP (NN deal))) <generator object get_child_spans at 0x7f752905ac10> <generator object get_child_spans at 0x7f752905ac80>\n",
      "in () (IN in) <generator object get_child_spans at 0x7f752905aba0> <generator object get_child_spans at 0x7f752905ac80>\n",
      "deal ('NP',) (NP (NN deal)) <generator object get_child_spans at 0x7f752905ac10> <generator object get_child_spans at 0x7f752905ac80>\n",
      ". () (. .) <generator object get_child_spans at 0x7f752905aba0> <generator object get_child_spans at 0x7f752905ac80>\n"
     ]
    }
   ],
   "source": [
    "for c in sent._.constituents:\n",
    "    print(c, c._.labels, c._.parse_string, c._.children, c._.children)"
   ]
  },
  {
   "cell_type": "code",
   "execution_count": 6,
   "metadata": {},
   "outputs": [],
   "source": [
    "from pprint import pprint\n",
    "\n",
    "def enumerateSort(span):\n",
    "    if len(span._.labels) == 0:\n",
    "        # leaf node\n",
    "        return [span._.parse_string]\n",
    "    \n",
    "    partial_enumerated = []\n",
    "    partial_enumerated.append(span._.labels[0])\n",
    "\n",
    "    sub_enumerated = []\n",
    "    for c in span._.children:\n",
    "        if len(sub_enumerated) == 0:\n",
    "            sub_enumerated.extend(enumerateSort(c))\n",
    "            continue\n",
    "        else:\n",
    "            right_side = enumerateSort(c)\n",
    "            left_side = sub_enumerated\n",
    "            sub_enumerated = [ a + \" \" + b for a in left_side for b in right_side ]\n",
    "    \n",
    "    partial_enumerated.extend(sub_enumerated)\n",
    "    # print(f\"span: {span._.labels}, partial_enumerated: {partial_enumerated}\")\n",
    "    return partial_enumerated\n"
   ]
  },
  {
   "cell_type": "code",
   "execution_count": 7,
   "metadata": {},
   "outputs": [
    {
     "name": "stdout",
     "output_type": "stream",
     "text": [
      "['S',\n",
      " 'NP VP (. .)',\n",
      " 'NP (VBZ has) NP (. .)',\n",
      " 'NP (VBZ has) NP PP (. .)',\n",
      " 'NP (VBZ has) NP (IN in) NP (. .)',\n",
      " 'NP (VBZ has) (DT a) (JJ good) (NN check) PP (. .)',\n",
      " 'NP (VBZ has) (DT a) (JJ good) (NN check) (IN in) NP (. .)',\n",
      " '(DT This) (JJ particular) (NN location) VP (. .)',\n",
      " '(DT This) (JJ particular) (NN location) (VBZ has) NP (. .)',\n",
      " '(DT This) (JJ particular) (NN location) (VBZ has) NP PP (. .)',\n",
      " '(DT This) (JJ particular) (NN location) (VBZ has) NP (IN in) NP (. .)',\n",
      " '(DT This) (JJ particular) (NN location) (VBZ has) (DT a) (JJ good) (NN '\n",
      " 'check) PP (. .)',\n",
      " '(DT This) (JJ particular) (NN location) (VBZ has) (DT a) (JJ good) (NN '\n",
      " 'check) (IN in) NP (. .)']\n"
     ]
    }
   ],
   "source": [
    "pprint(enumerateSort(sent))"
   ]
  },
  {
   "cell_type": "code",
   "execution_count": 17,
   "metadata": {},
   "outputs": [
    {
     "name": "stdout",
     "output_type": "stream",
     "text": [
      "S\n",
      "NP VP \n",
      "NP VBZ NP \n",
      "NP VBZ NP PP \n",
      "NP VBZ NP IN NP \n",
      "NP VBZ DT JJ NN PP \n",
      "NP VBZ DT JJ NN IN NP \n",
      "DT JJ NN VP \n",
      "DT JJ NN VBZ NP \n",
      "DT JJ NN VBZ NP PP \n",
      "DT JJ NN VBZ NP IN NP \n",
      "DT JJ NN VBZ DT JJ NN PP \n",
      "DT JJ NN VBZ DT JJ NN IN NP \n"
     ]
    }
   ],
   "source": [
    "import re\n",
    "\n",
    "SyntaxMapping = {\n",
    "    \"NP\": \"A\",\n",
    "    \"NN\": \"B\",\n",
    "    \"CC\": \"C\",\n",
    "    \"CD\": \"D\",\n",
    "    \"DT\": \"E\",\n",
    "    \"EX\": \"F\",\n",
    "    \"FW\": \"G\",\n",
    "    \"IN\": \"H\",\n",
    "    \"JJ\": \"I\",\n",
    "    \"JJR\": \"J\",\n",
    "    \"JJS\": \"K\",\n",
    "    \"LS\": \"L\",\n",
    "    \"MD\": \"M\",\n",
    "    \"NNS\": \"N\",\n",
    "    \"NNP\": \"O\",\n",
    "    \"NNPS\": \"P\",\n",
    "    \"PDT\": \"Q\",\n",
    "    \"POS\": \"R\",\n",
    "    \"PRP\": \"S\",\n",
    "    \"PRP$\": \"T\",\n",
    "    \"RB\": \"U\",\n",
    "    \"RBR\": \"V\",\n",
    "    \"RBS\": \"W\",\n",
    "    \"RP\": \"X\",\n",
    "    \"TO\": \"Y\",\n",
    "    \"UH\": \"Z\",\n",
    "    \"VB\": \"a\",\n",
    "    \"VBG\": \"b\",\n",
    "    \"VBD\": \"c\",\n",
    "    \"VBN\": \"d\",\n",
    "    \"VBP\": \"e\",\n",
    "    \"VBZ\": \"f\",\n",
    "    \"WDT\": \"g\",\n",
    "    \"WP\": \"h\",\n",
    "    \"WRB\": \"i\",\n",
    "    \"VP\": \"j\"\n",
    "}\n",
    "\n",
    "enumerated = enumerateSort(sent)\n",
    "new_enumerated = []\n",
    "for enum in enumerated:\n",
    "    new_enum = re.sub(r\"\\((\\w+) (\\w+)\\)\", r\"\\1\", enum)\n",
    "    new_enum = re.sub(r\"\\(\\. \\.\\)\", r\"\", new_enum)\n",
    "    new_enumerated.append(new_enum)\n",
    "    print(new_enum)"
   ]
  },
  {
   "cell_type": "code",
   "execution_count": 22,
   "metadata": {},
   "outputs": [
    {
     "name": "stdout",
     "output_type": "stream",
     "text": [
      "NP VP \n",
      "NP\n",
      "VP\n",
      "\n"
     ]
    },
    {
     "ename": "KeyError",
     "evalue": "''",
     "output_type": "error",
     "traceback": [
      "\u001b[0;31m---------------------------------------------------------------------------\u001b[0m",
      "\u001b[0;31mKeyError\u001b[0m                                  Traceback (most recent call last)",
      "\u001b[0;32m<ipython-input-22-b5c9cad7b06c>\u001b[0m in \u001b[0;36m<module>\u001b[0;34m\u001b[0m\n\u001b[1;32m      5\u001b[0m     \u001b[0;32mfor\u001b[0m \u001b[0me\u001b[0m \u001b[0;32min\u001b[0m \u001b[0menum\u001b[0m\u001b[0;34m.\u001b[0m\u001b[0msplit\u001b[0m\u001b[0;34m(\u001b[0m\u001b[0;34m\" \"\u001b[0m\u001b[0;34m)\u001b[0m\u001b[0;34m:\u001b[0m\u001b[0;34m\u001b[0m\u001b[0;34m\u001b[0m\u001b[0m\n\u001b[1;32m      6\u001b[0m         \u001b[0mprint\u001b[0m\u001b[0;34m(\u001b[0m\u001b[0me\u001b[0m\u001b[0;34m)\u001b[0m\u001b[0;34m\u001b[0m\u001b[0;34m\u001b[0m\u001b[0m\n\u001b[0;32m----> 7\u001b[0;31m         \u001b[0mreg_exp\u001b[0m \u001b[0;34m+=\u001b[0m \u001b[0mSyntaxMapping\u001b[0m\u001b[0;34m[\u001b[0m\u001b[0me\u001b[0m\u001b[0;34m]\u001b[0m\u001b[0;34m\u001b[0m\u001b[0;34m\u001b[0m\u001b[0m\n\u001b[0m\u001b[1;32m      8\u001b[0m     \u001b[0mreg_exps\u001b[0m\u001b[0;34m.\u001b[0m\u001b[0mappend\u001b[0m\u001b[0;34m(\u001b[0m\u001b[0mreg_exp\u001b[0m\u001b[0;34m)\u001b[0m\u001b[0;34m\u001b[0m\u001b[0;34m\u001b[0m\u001b[0m\n\u001b[1;32m      9\u001b[0m \u001b[0;34m\u001b[0m\u001b[0m\n",
      "\u001b[0;31mKeyError\u001b[0m: ''"
     ]
    }
   ],
   "source": [
    "reg_exps = []\n",
    "for enum in new_enumerated[1:]:\n",
    "    reg_exp = \"\"\n",
    "    print(enum)\n",
    "    for e in enum.strip().split(\" \"):\n",
    "        print(e)\n",
    "        reg_exp += SyntaxMapping[e]\n",
    "    reg_exps.append(reg_exp)\n",
    "\n",
    "pprint(reg_exps)"
   ]
  },
  {
   "cell_type": "code",
   "execution_count": 12,
   "metadata": {},
   "outputs": [
    {
     "ename": "ValueError",
     "evalue": "[E087] Unknown displaCy style: det.",
     "output_type": "error",
     "traceback": [
      "\u001b[0;31m---------------------------------------------------------------------------\u001b[0m",
      "\u001b[0;31mValueError\u001b[0m                                Traceback (most recent call last)",
      "\u001b[0;32m<ipython-input-12-14a779cefb32>\u001b[0m in \u001b[0;36m<module>\u001b[0;34m\u001b[0m\n\u001b[0;32m----> 1\u001b[0;31m \u001b[0mdisplacy\u001b[0m\u001b[0;34m.\u001b[0m\u001b[0mserve\u001b[0m\u001b[0;34m(\u001b[0m\u001b[0mdoc\u001b[0m\u001b[0;34m,\u001b[0m \u001b[0mstyle\u001b[0m\u001b[0;34m=\u001b[0m\u001b[0;34m\"det\"\u001b[0m\u001b[0;34m)\u001b[0m\u001b[0;34m\u001b[0m\u001b[0;34m\u001b[0m\u001b[0m\n\u001b[0m",
      "\u001b[0;32m~/anaconda3/lib/python3.8/site-packages/spacy/displacy/__init__.py\u001b[0m in \u001b[0;36mserve\u001b[0;34m(docs, style, page, minify, options, manual, port, host)\u001b[0m\n\u001b[1;32m     97\u001b[0m     \u001b[0;32mif\u001b[0m \u001b[0mis_in_jupyter\u001b[0m\u001b[0;34m(\u001b[0m\u001b[0;34m)\u001b[0m\u001b[0;34m:\u001b[0m\u001b[0;34m\u001b[0m\u001b[0;34m\u001b[0m\u001b[0m\n\u001b[1;32m     98\u001b[0m         \u001b[0mwarnings\u001b[0m\u001b[0;34m.\u001b[0m\u001b[0mwarn\u001b[0m\u001b[0;34m(\u001b[0m\u001b[0mWarnings\u001b[0m\u001b[0;34m.\u001b[0m\u001b[0mW011\u001b[0m\u001b[0;34m)\u001b[0m\u001b[0;34m\u001b[0m\u001b[0;34m\u001b[0m\u001b[0m\n\u001b[0;32m---> 99\u001b[0;31m     \u001b[0mrender\u001b[0m\u001b[0;34m(\u001b[0m\u001b[0mdocs\u001b[0m\u001b[0;34m,\u001b[0m \u001b[0mstyle\u001b[0m\u001b[0;34m=\u001b[0m\u001b[0mstyle\u001b[0m\u001b[0;34m,\u001b[0m \u001b[0mpage\u001b[0m\u001b[0;34m=\u001b[0m\u001b[0mpage\u001b[0m\u001b[0;34m,\u001b[0m \u001b[0mminify\u001b[0m\u001b[0;34m=\u001b[0m\u001b[0mminify\u001b[0m\u001b[0;34m,\u001b[0m \u001b[0moptions\u001b[0m\u001b[0;34m=\u001b[0m\u001b[0moptions\u001b[0m\u001b[0;34m,\u001b[0m \u001b[0mmanual\u001b[0m\u001b[0;34m=\u001b[0m\u001b[0mmanual\u001b[0m\u001b[0;34m)\u001b[0m\u001b[0;34m\u001b[0m\u001b[0;34m\u001b[0m\u001b[0m\n\u001b[0m\u001b[1;32m    100\u001b[0m     \u001b[0mhttpd\u001b[0m \u001b[0;34m=\u001b[0m \u001b[0msimple_server\u001b[0m\u001b[0;34m.\u001b[0m\u001b[0mmake_server\u001b[0m\u001b[0;34m(\u001b[0m\u001b[0mhost\u001b[0m\u001b[0;34m,\u001b[0m \u001b[0mport\u001b[0m\u001b[0;34m,\u001b[0m \u001b[0mapp\u001b[0m\u001b[0;34m)\u001b[0m\u001b[0;34m\u001b[0m\u001b[0;34m\u001b[0m\u001b[0m\n\u001b[1;32m    101\u001b[0m     \u001b[0mprint\u001b[0m\u001b[0;34m(\u001b[0m\u001b[0;34mf\"\\nUsing the '{style}' visualizer\"\u001b[0m\u001b[0;34m)\u001b[0m\u001b[0;34m\u001b[0m\u001b[0;34m\u001b[0m\u001b[0m\n",
      "\u001b[0;32m~/anaconda3/lib/python3.8/site-packages/spacy/displacy/__init__.py\u001b[0m in \u001b[0;36mrender\u001b[0;34m(docs, style, page, minify, jupyter, options, manual)\u001b[0m\n\u001b[1;32m     47\u001b[0m     }\n\u001b[1;32m     48\u001b[0m     \u001b[0;32mif\u001b[0m \u001b[0mstyle\u001b[0m \u001b[0;32mnot\u001b[0m \u001b[0;32min\u001b[0m \u001b[0mfactories\u001b[0m\u001b[0;34m:\u001b[0m\u001b[0;34m\u001b[0m\u001b[0;34m\u001b[0m\u001b[0m\n\u001b[0;32m---> 49\u001b[0;31m         \u001b[0;32mraise\u001b[0m \u001b[0mValueError\u001b[0m\u001b[0;34m(\u001b[0m\u001b[0mErrors\u001b[0m\u001b[0;34m.\u001b[0m\u001b[0mE087\u001b[0m\u001b[0;34m.\u001b[0m\u001b[0mformat\u001b[0m\u001b[0;34m(\u001b[0m\u001b[0mstyle\u001b[0m\u001b[0;34m=\u001b[0m\u001b[0mstyle\u001b[0m\u001b[0;34m)\u001b[0m\u001b[0;34m)\u001b[0m\u001b[0;34m\u001b[0m\u001b[0;34m\u001b[0m\u001b[0m\n\u001b[0m\u001b[1;32m     50\u001b[0m     \u001b[0;32mif\u001b[0m \u001b[0misinstance\u001b[0m\u001b[0;34m(\u001b[0m\u001b[0mdocs\u001b[0m\u001b[0;34m,\u001b[0m \u001b[0;34m(\u001b[0m\u001b[0mDoc\u001b[0m\u001b[0;34m,\u001b[0m \u001b[0mSpan\u001b[0m\u001b[0;34m,\u001b[0m \u001b[0mdict\u001b[0m\u001b[0;34m)\u001b[0m\u001b[0;34m)\u001b[0m\u001b[0;34m:\u001b[0m\u001b[0;34m\u001b[0m\u001b[0;34m\u001b[0m\u001b[0m\n\u001b[1;32m     51\u001b[0m         \u001b[0mdocs\u001b[0m \u001b[0;34m=\u001b[0m \u001b[0;34m[\u001b[0m\u001b[0mdocs\u001b[0m\u001b[0;34m]\u001b[0m\u001b[0;34m\u001b[0m\u001b[0;34m\u001b[0m\u001b[0m\n",
      "\u001b[0;31mValueError\u001b[0m: [E087] Unknown displaCy style: det."
     ]
    }
   ],
   "source": [
    "displacy.serve(doc, style=\"det\")"
   ]
  },
  {
   "cell_type": "code",
   "execution_count": null,
   "metadata": {},
   "outputs": [],
   "source": []
  }
 ],
 "metadata": {
  "interpreter": {
   "hash": "43eaf94c92d45810342cd1b498296a321ce7f6eb83b68c83bf9a1bbe57abef4f"
  },
  "kernelspec": {
   "display_name": "Python 3.8.12 64-bit ('nlq': conda)",
   "language": "python",
   "name": "python3"
  },
  "language_info": {
   "codemirror_mode": {
    "name": "ipython",
    "version": 3
   },
   "file_extension": ".py",
   "mimetype": "text/x-python",
   "name": "python",
   "nbconvert_exporter": "python",
   "pygments_lexer": "ipython3",
   "version": "3.8.8"
  },
  "orig_nbformat": 4
 },
 "nbformat": 4,
 "nbformat_minor": 2
}
